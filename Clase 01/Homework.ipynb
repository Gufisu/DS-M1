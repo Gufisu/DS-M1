{
 "cells": [
  {
   "cell_type": "markdown",
   "metadata": {},
   "source": [
    "# Práctica Clase 1 "
   ]
  },
  {
   "cell_type": "markdown",
   "metadata": {},
   "source": [
    "1) Crear una función capaz de convertir números enteros de base 10 a base 2. Debe recibir como parámetro el número a convertir<br>\n",
    "Consideraciones:<br> \n",
    "a. Tratar de resolverlo sin usar la función format(nro,\"b\")<br>\n",
    "b. El pdf \"conversion-de-decimal-a-binario.pdf\" puede servir de ayuda.\n"
   ]
  },
  {
   "cell_type": "code",
   "execution_count": 8,
   "metadata": {},
   "outputs": [],
   "source": [
    "def NumeroBinario(numero):\n",
    "    '''\n",
    "    Esta función recibe como parámetro un número entero mayor ó igual a cero y lo devuelve en su \n",
    "    representación binaria. Debe recibir y devolver un valor de tipo entero.\n",
    "    En caso de que el parámetro no sea de tipo entero y mayor a -1 retorna nulo.\n",
    "    '''\n",
    "    list_div=[numero]\n",
    "    list_rest=[]\n",
    "    numerobin = \"\"\n",
    "    #generamos un lista el maximo entero del numero/2\n",
    "    for i in range (1, numero+1):\n",
    "        numero = numero/2\n",
    "        list_div.append(int(numero))\n",
    "        if numero< 1:\n",
    "            break\n",
    "    # generamos ua segunda lista de (maximo entero de (numero/2))%2\n",
    "    for e in list_div:\n",
    "        list_rest.append(e%2)\n",
    "        if e <1:\n",
    "            break\n",
    "    #generamos un string con los numeros de la lista (numero/2))%2\n",
    "    for k in list_rest:\n",
    "        numerobin = numerobin + str(k)\n",
    "\n",
    "    return int(numerobin[::-1])\n",
    "    \n"
   ]
  },
  {
   "cell_type": "code",
   "execution_count": 9,
   "metadata": {},
   "outputs": [
    {
     "data": {
      "text/plain": [
       "11101"
      ]
     },
     "execution_count": 9,
     "metadata": {},
     "output_type": "execute_result"
    }
   ],
   "source": [
    "#Ejemplo:\n",
    "NumeroBinario(29)"
   ]
  },
  {
   "cell_type": "markdown",
   "metadata": {},
   "source": [
    "2) Convertir de decimal a binario las fracciones 1/2, 1/3, 1/4, 1/5, 1/6, 1/7, 1/8, 1/9. Luego analizar los resultados y observar qué particularidad se encuentra en los mismos. Se puede usar Python o una calculadora, lo importante es ver si hay algo que podemos notar..."
   ]
  },
  {
   "cell_type": "markdown",
   "metadata": {},
   "source": [
    "Salida esperada:\n",
    "* Fraccion 1 / 2 :  0.5  y En binario:  0.1\n",
    "* Fraccion 1 / 3 :  0.3333333333333333  y En binario:  0.010101010101010101010101\n",
    "* Fraccion 1 / 4 :  0.25  y En binario:  0.01\n",
    "* Fraccion 1 / 5 :  0.2  y En binario:  0.001100110011001100110011\n",
    "* Fraccion 1 / 6 :  0.16666666666666666  y En binario:  0.001010101010101010101010\n",
    "* Fraccion 1 / 7 :  0.14285714285714285  y En binario:  0.001001001001001001001001\n",
    "* Fraccion 1 / 8 :  0.125  y En binario:  0.001\n",
    "* Fraccion 1 / 9 :  0.1111111111111111  y En binario:  0.000111000111000111000111"
   ]
  },
  {
   "cell_type": "code",
   "execution_count": 1,
   "metadata": {},
   "outputs": [],
   "source": [
    "\n",
    "\n",
    "def NumeroBinario(numero):\n",
    "    \n",
    "    list_div=[numero]\n",
    "    list_rest=[]\n",
    "    numerobin = \"\"\n",
    "    #generamos un lista el maximo entero del numero/2\n",
    "    for i in range (1, numero+1):\n",
    "        numero = numero/2\n",
    "        list_div.append(int(numero))\n",
    "        if numero< 1:\n",
    "            break\n",
    "    # generamos ua segunda lista de (maximo entero de (numero/2))%2\n",
    "    for e in list_div:\n",
    "        list_rest.append(e%2)\n",
    "        if e <1:\n",
    "            break\n",
    "    #generamos un string con los numeros de la lista (numero/2))%2\n",
    "    for k in list_rest:\n",
    "        numerobin = numerobin + str(k)\n",
    "\n",
    "    return list_div, list_rest, int(numerobin[::-1])\n"
   ]
  },
  {
   "cell_type": "code",
   "execution_count": 7,
   "metadata": {},
   "outputs": [
    {
     "name": "stdout",
     "output_type": "stream",
     "text": [
      "([29, 14, 7, 3, 1, 0], [1, 0, 1, 1, 1, 0], 11101)\n"
     ]
    }
   ],
   "source": [
    "print(NumeroBinario(29))"
   ]
  },
  {
   "cell_type": "code",
   "execution_count": 72,
   "metadata": {},
   "outputs": [
    {
     "name": "stdout",
     "output_type": "stream",
     "text": [
      "1101\n"
     ]
    }
   ],
   "source": [
    "lista = [1, 0, 1, 1, 0]\n",
    "numerobin = \"\"\n",
    "for k in lista:\n",
    "    numerobin = numerobin + str(k)\n",
    "\n",
    "print(int(numerobin[::-1]))"
   ]
  }
 ],
 "metadata": {
  "kernelspec": {
   "display_name": "Python 3.9.0 64-bit",
   "language": "python",
   "name": "python3"
  },
  "language_info": {
   "codemirror_mode": {
    "name": "ipython",
    "version": 3
   },
   "file_extension": ".py",
   "mimetype": "text/x-python",
   "name": "python",
   "nbconvert_exporter": "python",
   "pygments_lexer": "ipython3",
   "version": "3.9.0"
  },
  "orig_nbformat": 4,
  "vscode": {
   "interpreter": {
    "hash": "6b402f5ced316008a4507adc059971934935b3689dea0afddff468e677c93354"
   }
  }
 },
 "nbformat": 4,
 "nbformat_minor": 2
}
